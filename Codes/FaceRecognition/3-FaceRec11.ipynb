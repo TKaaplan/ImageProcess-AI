{
 "cells": [
  {
   "cell_type": "code",
   "execution_count": 1,
   "metadata": {},
   "outputs": [],
   "source": [
    "import os\n",
    "import cv2\n",
    "import dlib\n",
    "import face_recognition\n",
    "import numpy as np"
   ]
  },
  {
   "cell_type": "code",
   "execution_count": 2,
   "metadata": {},
   "outputs": [
    {
     "ename": "",
     "evalue": "",
     "output_type": "error",
     "traceback": [
      "\u001b[1;31mThe Kernel crashed while executing code in the the current cell or a previous cell. Please review the code in the cell(s) to identify a possible cause of the failure. Click <a href='https://aka.ms/vscodeJupyterKernelCrash'>here</a> for more info. View Jupyter <a href='command:jupyter.viewOutput'>log</a> for further details."
     ]
    }
   ],
   "source": [
    "face_detector = dlib.get_frontal_face_detector()\n",
    "video_capture = cv2.VideoCapture(\"walking.mp4\")\n",
    "\n",
    "known_faces = {}\n",
    "\n",
    "while True:\n",
    "    ret, frame = video_capture.read()\n",
    "    faces = face_detector(frame)\n",
    "\n",
    "    # Tespit edilen yüzleri işle\n",
    "    for i, face in enumerate(faces):\n",
    "        x1, y1, x2, y2, w, h = face.left(), face.top(), face.right() + 1, face.bottom() + 1, face.width(), face.height()\n",
    "        face_id = (x1, y1, x2, y2)  # Unique identifier based on face coordinates\n",
    "\n",
    "        # Recognize the face using face_recognition library\n",
    "        face_image = frame[y1:y2, x1:x2]\n",
    "        unknown_face_encoding = face_recognition.face_encodings(face_image)\n",
    "\n",
    "        if len(unknown_face_encoding) > 0:\n",
    "            # Check if the face already has a folder\n",
    "            if face_id not in known_faces:\n",
    "                known_faces[face_id] = f'kaydedilen_yuzler/yuz_{len(known_faces)}'\n",
    "                os.makedirs(known_faces[face_id])\n",
    "\n",
    "                # Save the first image of the face in the corresponding folder\n",
    "                file_name = f'{known_faces[face_id]}/yuz_0.jpg'\n",
    "                cv2.imwrite(file_name, face_image)\n",
    "                cv2.rectangle(frame, (x1, y1), (x1 + w, y1 + h), (0, 255, 0), 2)\n",
    "\n",
    "    cv2.imshow('Video', frame)\n",
    "\n",
    "    if cv2.waitKey(1) & 0xFF == ord('q'):\n",
    "        break\n",
    "\n",
    "video_capture.release()\n",
    "cv2.destroyAllWindows()"
   ]
  },
  {
   "cell_type": "code",
   "execution_count": null,
   "metadata": {},
   "outputs": [],
   "source": []
  }
 ],
 "metadata": {
  "kernelspec": {
   "display_name": "base",
   "language": "python",
   "name": "python3"
  },
  "language_info": {
   "codemirror_mode": {
    "name": "ipython",
    "version": 3
   },
   "file_extension": ".py",
   "mimetype": "text/x-python",
   "name": "python",
   "nbconvert_exporter": "python",
   "pygments_lexer": "ipython3",
   "version": "3.9.11"
  }
 },
 "nbformat": 4,
 "nbformat_minor": 2
}

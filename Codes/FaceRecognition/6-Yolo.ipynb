{
 "cells": [
  {
   "cell_type": "code",
   "execution_count": 2,
   "metadata": {},
   "outputs": [],
   "source": [
    "import cv2\n",
    "import numpy as np"
   ]
  },
  {
   "cell_type": "code",
   "execution_count": 3,
   "metadata": {},
   "outputs": [
    {
     "ename": "IndexError",
     "evalue": "invalid index to scalar variable.",
     "output_type": "error",
     "traceback": [
      "\u001b[1;31m---------------------------------------------------------------------------\u001b[0m",
      "\u001b[1;31mIndexError\u001b[0m                                Traceback (most recent call last)",
      "\u001b[1;32mc:\\Users\\User\\Desktop\\PointoTurkcell\\APP\\2-EventFaceRec\\Events\\6-Yolo.ipynb Cell 2\u001b[0m line \u001b[0;36m1\n\u001b[0;32m     <a href='vscode-notebook-cell:/c%3A/Users/User/Desktop/PointoTurkcell/APP/2-EventFaceRec/Events/6-Yolo.ipynb#W1sZmlsZQ%3D%3D?line=13'>14</a>\u001b[0m \u001b[39m# YOLO'nun çıkış katmanlarını alma\u001b[39;00m\n\u001b[0;32m     <a href='vscode-notebook-cell:/c%3A/Users/User/Desktop/PointoTurkcell/APP/2-EventFaceRec/Events/6-Yolo.ipynb#W1sZmlsZQ%3D%3D?line=14'>15</a>\u001b[0m layer_names \u001b[39m=\u001b[39m net\u001b[39m.\u001b[39mgetLayerNames()\n\u001b[1;32m---> <a href='vscode-notebook-cell:/c%3A/Users/User/Desktop/PointoTurkcell/APP/2-EventFaceRec/Events/6-Yolo.ipynb#W1sZmlsZQ%3D%3D?line=15'>16</a>\u001b[0m output_layers \u001b[39m=\u001b[39m [layer_names[i[\u001b[39m0\u001b[39m] \u001b[39m-\u001b[39m \u001b[39m1\u001b[39m] \u001b[39mfor\u001b[39;00m i \u001b[39min\u001b[39;00m net\u001b[39m.\u001b[39mgetUnconnectedOutLayers()]\n\u001b[0;32m     <a href='vscode-notebook-cell:/c%3A/Users/User/Desktop/PointoTurkcell/APP/2-EventFaceRec/Events/6-Yolo.ipynb#W1sZmlsZQ%3D%3D?line=17'>18</a>\u001b[0m \u001b[39m# Video dosyasını açma\u001b[39;00m\n\u001b[0;32m     <a href='vscode-notebook-cell:/c%3A/Users/User/Desktop/PointoTurkcell/APP/2-EventFaceRec/Events/6-Yolo.ipynb#W1sZmlsZQ%3D%3D?line=18'>19</a>\u001b[0m video_path \u001b[39m=\u001b[39m \u001b[39mr\u001b[39m\u001b[39m'\u001b[39m\u001b[39mC:\u001b[39m\u001b[39m\\\u001b[39m\u001b[39mUsers\u001b[39m\u001b[39m\\\u001b[39m\u001b[39mUser\u001b[39m\u001b[39m\\\u001b[39m\u001b[39mDesktop\u001b[39m\u001b[39m\\\u001b[39m\u001b[39mFace Recognition\u001b[39m\u001b[39m\\\u001b[39m\u001b[39mEvents\u001b[39m\u001b[39m\\\u001b[39m\u001b[39mx2mate.com-Okulöncesi .mp4\u001b[39m\u001b[39m'\u001b[39m\n",
      "\u001b[1;32mc:\\Users\\User\\Desktop\\PointoTurkcell\\APP\\2-EventFaceRec\\Events\\6-Yolo.ipynb Cell 2\u001b[0m line \u001b[0;36m1\n\u001b[0;32m     <a href='vscode-notebook-cell:/c%3A/Users/User/Desktop/PointoTurkcell/APP/2-EventFaceRec/Events/6-Yolo.ipynb#W1sZmlsZQ%3D%3D?line=13'>14</a>\u001b[0m \u001b[39m# YOLO'nun çıkış katmanlarını alma\u001b[39;00m\n\u001b[0;32m     <a href='vscode-notebook-cell:/c%3A/Users/User/Desktop/PointoTurkcell/APP/2-EventFaceRec/Events/6-Yolo.ipynb#W1sZmlsZQ%3D%3D?line=14'>15</a>\u001b[0m layer_names \u001b[39m=\u001b[39m net\u001b[39m.\u001b[39mgetLayerNames()\n\u001b[1;32m---> <a href='vscode-notebook-cell:/c%3A/Users/User/Desktop/PointoTurkcell/APP/2-EventFaceRec/Events/6-Yolo.ipynb#W1sZmlsZQ%3D%3D?line=15'>16</a>\u001b[0m output_layers \u001b[39m=\u001b[39m [layer_names[i[\u001b[39m0\u001b[39;49m] \u001b[39m-\u001b[39m \u001b[39m1\u001b[39m] \u001b[39mfor\u001b[39;00m i \u001b[39min\u001b[39;00m net\u001b[39m.\u001b[39mgetUnconnectedOutLayers()]\n\u001b[0;32m     <a href='vscode-notebook-cell:/c%3A/Users/User/Desktop/PointoTurkcell/APP/2-EventFaceRec/Events/6-Yolo.ipynb#W1sZmlsZQ%3D%3D?line=17'>18</a>\u001b[0m \u001b[39m# Video dosyasını açma\u001b[39;00m\n\u001b[0;32m     <a href='vscode-notebook-cell:/c%3A/Users/User/Desktop/PointoTurkcell/APP/2-EventFaceRec/Events/6-Yolo.ipynb#W1sZmlsZQ%3D%3D?line=18'>19</a>\u001b[0m video_path \u001b[39m=\u001b[39m \u001b[39mr\u001b[39m\u001b[39m'\u001b[39m\u001b[39mC:\u001b[39m\u001b[39m\\\u001b[39m\u001b[39mUsers\u001b[39m\u001b[39m\\\u001b[39m\u001b[39mUser\u001b[39m\u001b[39m\\\u001b[39m\u001b[39mDesktop\u001b[39m\u001b[39m\\\u001b[39m\u001b[39mFace Recognition\u001b[39m\u001b[39m\\\u001b[39m\u001b[39mEvents\u001b[39m\u001b[39m\\\u001b[39m\u001b[39mx2mate.com-Okulöncesi .mp4\u001b[39m\u001b[39m'\u001b[39m\n",
      "\u001b[1;31mIndexError\u001b[0m: invalid index to scalar variable."
     ]
    }
   ],
   "source": [
    "# YOLO için gerekli dosyaların ve konfigürasyonun yolu\n",
    "yolo_weights = \"yolov3.weights\"\n",
    "yolo_cfg = \"yolov3.cfg\"\n",
    "\n",
    "# YOLO ile eğitilmiş modeli yükleme\n",
    "net = cv2.dnn.readNet(yolo_weights, yolo_cfg)\n",
    "\n",
    "# Sınıf etiketlerini yükleme\n",
    "classes = []\n",
    "with open(\"walking.mp4\", \"r\", encoding=\"latin-1\") as f:\n",
    "    classes = f.read().strip().split(\"\\n\")\n",
    "\n",
    "\n",
    "# YOLO'nun çıkış katmanlarını alma\n",
    "layer_names = net.getLayerNames()\n",
    "output_layers = [layer_names[i[0] - 1] for i in net.getUnconnectedOutLayers()]\n",
    "\n",
    "# Video dosyasını açma\n",
    "video_path = r'C:\\Users\\User\\Desktop\\Face Recognition\\Events\\x2mate.com-Okulöncesi .mp4'\n",
    "cap = cv2.VideoCapture(video_path)\n",
    "\n",
    "while True:\n",
    "    # Video çerçevesini okuma\n",
    "    ret, frame = cap.read()\n",
    "    if not ret:\n",
    "        break\n",
    "\n",
    "    # Video çerçevesini YOLO ile işleme alma\n",
    "    height, width, channels = frame.shape\n",
    "    blob = cv2.dnn.blobFromImage(frame, 0.00392, (416, 416), (0, 0, 0), True, crop=False)\n",
    "    net.setInput(blob)\n",
    "    outs = net.forward(output_layers)\n",
    "\n",
    "    # YOLO'dan gelen çıktıları işleme alma\n",
    "    class_ids = []\n",
    "    confidences = []\n",
    "    boxes = []\n",
    "    for out in outs:\n",
    "        for detection in out:\n",
    "            scores = detection[5:]\n",
    "            class_id = np.argmax(scores)\n",
    "            confidence = scores[class_id]\n",
    "            if confidence > 0.5 and class_id == 0:  # 0 indeksi insan sınıfını temsil eder\n",
    "                # Nesne algılama kutusunun koordinatlarını alma\n",
    "                center_x = int(detection[0] * width)\n",
    "                center_y = int(detection[1] * height)\n",
    "                w = int(detection[2] * width)\n",
    "                h = int(detection[3] * height)\n",
    "\n",
    "                # Kutunun köşe koordinatlarını hesaplama\n",
    "                x = int(center_x - w / 2)\n",
    "                y = int(center_y - h / 2)\n",
    "\n",
    "                boxes.append([x, y, w, h])\n",
    "                confidences.append(float(confidence))\n",
    "                class_ids.append(class_id)\n",
    "\n",
    "    # Non-maximum suppression uygulama\n",
    "    indexes = cv2.dnn.NMSBoxes(boxes, confidences, 0.5, 0.4)\n",
    "\n",
    "    # Algılanan yüzleri çerçeve üzerine çizme ve kaydetme\n",
    "    font = cv2.FONT_HERSHEY_PLAIN\n",
    "    for i in range(len(boxes)):\n",
    "        if i in indexes:\n",
    "            x, y, w, h = boxes[i]\n",
    "            label = str(classes[class_ids[i]])\n",
    "            color = (0, 255, 0)  # Yeşil renk\n",
    "            cv2.rectangle(frame, (x, y), (x + w, y + h), color, 2)\n",
    "            cv2.putText(frame, label, (x, y - 5), font, 1, color, 1)\n",
    "\n",
    "            # Algılanan yüzleri başka bir klasöre kaydetme\n",
    "            face = frame[y:y+h, x:x+w]\n",
    "            cv2.imwrite(\"output_faces/face{}.jpg\".format(i), face)\n",
    "\n",
    "    # Sonuçları ekranda gösterme\n",
    "    cv2.imshow(\"YOLO Face Detection\", frame)\n",
    "\n",
    "    # Çıkış için 'q' tuşuna basılmasını bekleyin\n",
    "    if cv2.waitKey(1) & 0xFF == ord('q'):\n",
    "        break\n",
    "\n",
    "# Temizlik ve çıkış\n",
    "cap.release()\n",
    "cv2.destroyAllWindows()"
   ]
  },
  {
   "cell_type": "code",
   "execution_count": null,
   "metadata": {},
   "outputs": [],
   "source": []
  }
 ],
 "metadata": {
  "kernelspec": {
   "display_name": "base",
   "language": "python",
   "name": "python3"
  },
  "language_info": {
   "codemirror_mode": {
    "name": "ipython",
    "version": 3
   },
   "file_extension": ".py",
   "mimetype": "text/x-python",
   "name": "python",
   "nbconvert_exporter": "python",
   "pygments_lexer": "ipython3",
   "version": "3.9.13"
  },
  "orig_nbformat": 4
 },
 "nbformat": 4,
 "nbformat_minor": 2
}

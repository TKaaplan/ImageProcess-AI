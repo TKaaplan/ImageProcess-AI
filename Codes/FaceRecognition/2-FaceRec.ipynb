{
 "cells": [
  {
   "cell_type": "code",
   "execution_count": 1,
   "metadata": {},
   "outputs": [],
   "source": [
    "import cv2\n",
    "import os\n",
    "import numpy as np\n",
    "import dlib"
   ]
  },
  {
   "cell_type": "code",
   "execution_count": 2,
   "metadata": {},
   "outputs": [
    {
     "ename": "TypeError",
     "evalue": "__call__(): incompatible function arguments. The following argument types are supported:\n    1. (self: _dlib_pybind11.shape_predictor, image: array, box: _dlib_pybind11.rectangle) -> _dlib_pybind11.full_object_detection\n\nInvoked with: <_dlib_pybind11.shape_predictor object at 0x0000016A1291F3B0>, array([[[248, 223, 195],\n        [248, 223, 195],\n        [248, 223, 195],\n        ...,\n        [242, 194, 152],\n        [242, 194, 152],\n        [242, 194, 152]],\n\n       [[248, 223, 195],\n        [248, 223, 195],\n        [248, 223, 195],\n        ...,\n        [242, 194, 152],\n        [242, 194, 152],\n        [242, 194, 152]],\n\n       [[248, 223, 195],\n        [248, 223, 195],\n        [248, 223, 195],\n        ...,\n        [242, 194, 152],\n        [242, 194, 152],\n        [242, 194, 152]],\n\n       ...,\n\n       [[119, 101,  91],\n        [119, 101,  91],\n        [119, 101,  91],\n        ...,\n        [ 18,   8,   3],\n        [ 16,   5,   2],\n        [ 15,   4,   1]],\n\n       [[119, 101,  91],\n        [119, 101,  91],\n        [119, 101,  91],\n        ...,\n        [ 18,   8,   3],\n        [ 16,   5,   2],\n        [ 15,   4,   1]],\n\n       [[119, 101,  91],\n        [119, 101,  91],\n        [119, 101,  91],\n        ...,\n        [ 18,   8,   3],\n        [ 16,   5,   2],\n        [ 15,   4,   1]]], dtype=uint8)",
     "output_type": "error",
     "traceback": [
      "\u001b[1;31m---------------------------------------------------------------------------\u001b[0m",
      "\u001b[1;31mTypeError\u001b[0m                                 Traceback (most recent call last)",
      "\u001b[1;32mc:\\Users\\User\\Desktop\\PointoTurkcell\\APP\\2-EventFaceRec\\Events\\2-FaceRec.ipynb Cell 2\u001b[0m line \u001b[0;36m1\n\u001b[0;32m     <a href='vscode-notebook-cell:/c%3A/Users/User/Desktop/PointoTurkcell/APP/2-EventFaceRec/Events/2-FaceRec.ipynb#W1sZmlsZQ%3D%3D?line=11'>12</a>\u001b[0m ret, frame \u001b[39m=\u001b[39m video_capture\u001b[39m.\u001b[39mread()\n\u001b[0;32m     <a href='vscode-notebook-cell:/c%3A/Users/User/Desktop/PointoTurkcell/APP/2-EventFaceRec/Events/2-FaceRec.ipynb#W1sZmlsZQ%3D%3D?line=12'>13</a>\u001b[0m \u001b[39m# Yüz tespiti yap\u001b[39;00m\n\u001b[1;32m---> <a href='vscode-notebook-cell:/c%3A/Users/User/Desktop/PointoTurkcell/APP/2-EventFaceRec/Events/2-FaceRec.ipynb#W1sZmlsZQ%3D%3D?line=13'>14</a>\u001b[0m faces \u001b[39m=\u001b[39m face_detector(frame)\n\u001b[0;32m     <a href='vscode-notebook-cell:/c%3A/Users/User/Desktop/PointoTurkcell/APP/2-EventFaceRec/Events/2-FaceRec.ipynb#W1sZmlsZQ%3D%3D?line=15'>16</a>\u001b[0m \u001b[39m# Tespit edilen yüzü kaydet\u001b[39;00m\n\u001b[0;32m     <a href='vscode-notebook-cell:/c%3A/Users/User/Desktop/PointoTurkcell/APP/2-EventFaceRec/Events/2-FaceRec.ipynb#W1sZmlsZQ%3D%3D?line=16'>17</a>\u001b[0m \u001b[39mfor\u001b[39;00m i, face \u001b[39min\u001b[39;00m \u001b[39menumerate\u001b[39m(faces):\n",
      "\u001b[1;31mTypeError\u001b[0m: __call__(): incompatible function arguments. The following argument types are supported:\n    1. (self: _dlib_pybind11.shape_predictor, image: array, box: _dlib_pybind11.rectangle) -> _dlib_pybind11.full_object_detection\n\nInvoked with: <_dlib_pybind11.shape_predictor object at 0x0000016A1291F3B0>, array([[[248, 223, 195],\n        [248, 223, 195],\n        [248, 223, 195],\n        ...,\n        [242, 194, 152],\n        [242, 194, 152],\n        [242, 194, 152]],\n\n       [[248, 223, 195],\n        [248, 223, 195],\n        [248, 223, 195],\n        ...,\n        [242, 194, 152],\n        [242, 194, 152],\n        [242, 194, 152]],\n\n       [[248, 223, 195],\n        [248, 223, 195],\n        [248, 223, 195],\n        ...,\n        [242, 194, 152],\n        [242, 194, 152],\n        [242, 194, 152]],\n\n       ...,\n\n       [[119, 101,  91],\n        [119, 101,  91],\n        [119, 101,  91],\n        ...,\n        [ 18,   8,   3],\n        [ 16,   5,   2],\n        [ 15,   4,   1]],\n\n       [[119, 101,  91],\n        [119, 101,  91],\n        [119, 101,  91],\n        ...,\n        [ 18,   8,   3],\n        [ 16,   5,   2],\n        [ 15,   4,   1]],\n\n       [[119, 101,  91],\n        [119, 101,  91],\n        [119, 101,  91],\n        ...,\n        [ 18,   8,   3],\n        [ 16,   5,   2],\n        [ 15,   4,   1]]], dtype=uint8)"
     ]
    }
   ],
   "source": [
    "# Yüz tanıma modeli\n",
    "face_detector = dlib.shape_predictor()\n",
    "\n",
    "video_capture = cv2.VideoCapture(\"walking.mp4\")\n",
    "\n",
    "# Yüzlerin kaydedileceği kısım\n",
    "if not os.path.exists('kaydedilen_yuzler'):\n",
    "    os.makedirs('kaydedilen_yuzler')\n",
    "\n",
    "while True:\n",
    "    # Kameradan/videodan frameleri oku\n",
    "    ret, frame = video_capture.read()\n",
    "    # Yüz tespiti yap\n",
    "    faces = face_detector(frame)\n",
    "\n",
    "    # Tespit edilen yüzü kaydet\n",
    "    for i, face in enumerate(faces):\n",
    "        x1, y1, x2, y2, w, h = face.left(), face.top(), face.right() + 1, face.bottom() + 1, face.width(), face.height()\n",
    "        yuz = frame[y1:y2, x1:x2]\n",
    "        cv2.imwrite(f'kaydedilen_yuzler/yuz_{i}.jpg', yuz)\n",
    "        cv2.rectangle(frame, (x1, y1), (x1 + w, y1 + h), (0, 255, 0), 2)\n",
    "\n",
    "    cv2.imshow('Video', frame)\n",
    "\n",
    "    if cv2.waitKey(1) & 0xFF == ord('q'):\n",
    "        break\n",
    "\n",
    "video_capture.release()\n",
    "cv2.destroyAllWindows()"
   ]
  },
  {
   "cell_type": "code",
   "execution_count": null,
   "metadata": {},
   "outputs": [],
   "source": []
  }
 ],
 "metadata": {
  "kernelspec": {
   "display_name": "base",
   "language": "python",
   "name": "python3"
  },
  "language_info": {
   "codemirror_mode": {
    "name": "ipython",
    "version": 3
   },
   "file_extension": ".py",
   "mimetype": "text/x-python",
   "name": "python",
   "nbconvert_exporter": "python",
   "pygments_lexer": "ipython3",
   "version": "3.9.13"
  },
  "orig_nbformat": 4
 },
 "nbformat": 4,
 "nbformat_minor": 2
}

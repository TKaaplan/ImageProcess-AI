{
 "cells": [
  {
   "cell_type": "code",
   "execution_count": 1,
   "metadata": {},
   "outputs": [],
   "source": [
    "import cv2\n",
    "import os\n",
    "import numpy as np\n",
    "import dlib"
   ]
  },
  {
   "cell_type": "code",
   "execution_count": null,
   "metadata": {},
   "outputs": [],
   "source": [
    "face_detector = dlib.get_frontal_face_detector()\n",
    "video_capture = cv2.VideoCapture(0)\n",
    "\n",
    "# Yüzlerin kaydedileceği kısım\n",
    "if not os.path.exists('kaydedilen_yuzler'):\n",
    "    os.makedirs('kaydedilen_yuzler')\n",
    "\n",
    "while True:\n",
    "    ret, frame = video_capture.read()\n",
    "    faces = face_detector(frame)\n",
    "\n",
    "    # Tespit edilen yüzü kaydet\n",
    "    for i, face in enumerate(faces):\n",
    "        x1, y1, x2, y2, w, h = face.left(), face.top(), face.right() + 1, face.bottom() + 1, face.width(), face.height()\n",
    "        yuz = frame[y1:y2, x1:x2]\n",
    "        \n",
    "        if not yuz.size == 0:\n",
    "            cv2.imwrite(f'kaydedilen_yuzler/yuz_{i}.jpg', yuz)\n",
    "            cv2.rectangle(frame, (x1, y1), (x1 + w, y1 + h), (0, 255, 0), 2)\n",
    "        \n",
    "    cv2.imshow('Video', frame)\n",
    "\n",
    "    if cv2.waitKey(1) & 0xFF == ord('q'):\n",
    "        break\n",
    "\n",
    "video_capture.release()\n",
    "cv2.destroyAllWindows()"
   ]
  },
  {
   "cell_type": "code",
   "execution_count": null,
   "metadata": {},
   "outputs": [],
   "source": []
  }
 ],
 "metadata": {
  "kernelspec": {
   "display_name": "base",
   "language": "python",
   "name": "python3"
  },
  "language_info": {
   "codemirror_mode": {
    "name": "ipython",
    "version": 3
   },
   "file_extension": ".py",
   "mimetype": "text/x-python",
   "name": "python",
   "nbconvert_exporter": "python",
   "pygments_lexer": "ipython3",
   "version": "3.9.11"
  }
 },
 "nbformat": 4,
 "nbformat_minor": 2
}

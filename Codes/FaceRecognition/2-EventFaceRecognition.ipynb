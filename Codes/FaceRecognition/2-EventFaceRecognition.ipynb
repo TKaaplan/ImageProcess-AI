{
 "cells": [
  {
   "cell_type": "code",
   "execution_count": 1,
   "metadata": {},
   "outputs": [],
   "source": [
    "import dlib\n",
    "import cv2\n",
    "import os\n",
    "import numpy as np\n",
    "#import mlkit"
   ]
  },
  {
   "cell_type": "code",
   "execution_count": 2,
   "metadata": {},
   "outputs": [],
   "source": [
    "face_detector=dlib.get_frontal_face_detector()"
   ]
  },
  {
   "cell_type": "code",
   "execution_count": 3,
   "metadata": {},
   "outputs": [],
   "source": [
    "known_face_encodings = []\n",
    "known_face_names = []"
   ]
  },
  {
   "cell_type": "code",
   "execution_count": 4,
   "metadata": {},
   "outputs": [],
   "source": [
    "cap= cv2.VideoCapture(\"walking.mp4\")"
   ]
  },
  {
   "cell_type": "code",
   "execution_count": 5,
   "metadata": {},
   "outputs": [],
   "source": [
    "output_folder='Suratlar'\n",
    "os.makedirs(output_folder, exist_ok=True)"
   ]
  },
  {
   "cell_type": "code",
   "execution_count": 6,
   "metadata": {},
   "outputs": [
    {
     "ename": "NameError",
     "evalue": "name 'face_recognition' is not defined",
     "output_type": "error",
     "traceback": [
      "\u001b[1;31m---------------------------------------------------------------------------\u001b[0m",
      "\u001b[1;31mNameError\u001b[0m                                 Traceback (most recent call last)",
      "\u001b[1;32mc:\\Users\\User\\Desktop\\PointoTurkcell\\APP\\2-EventFaceRec\\2-EventFaceRecognition.ipynb Cell 6\u001b[0m line \u001b[0;36m1\n\u001b[0;32m     <a href='vscode-notebook-cell:/c%3A/Users/User/Desktop/PointoTurkcell/APP/2-EventFaceRec/2-EventFaceRecognition.ipynb#W5sZmlsZQ%3D%3D?line=10'>11</a>\u001b[0m \u001b[39mfor\u001b[39;00m face \u001b[39min\u001b[39;00m faces:\n\u001b[0;32m     <a href='vscode-notebook-cell:/c%3A/Users/User/Desktop/PointoTurkcell/APP/2-EventFaceRec/2-EventFaceRecognition.ipynb#W5sZmlsZQ%3D%3D?line=11'>12</a>\u001b[0m     top, right, bottom, left \u001b[39m=\u001b[39m face\u001b[39m.\u001b[39mtop(), face\u001b[39m.\u001b[39mright(), face\u001b[39m.\u001b[39mbottom(), face\u001b[39m.\u001b[39mleft()\n\u001b[1;32m---> <a href='vscode-notebook-cell:/c%3A/Users/User/Desktop/PointoTurkcell/APP/2-EventFaceRec/2-EventFaceRecognition.ipynb#W5sZmlsZQ%3D%3D?line=12'>13</a>\u001b[0m     face_encoding \u001b[39m=\u001b[39m face_recognition\u001b[39m.\u001b[39mface_encodings(frame, [(top, right, bottom, left)])[\u001b[39m0\u001b[39m]\n\u001b[0;32m     <a href='vscode-notebook-cell:/c%3A/Users/User/Desktop/PointoTurkcell/APP/2-EventFaceRec/2-EventFaceRecognition.ipynb#W5sZmlsZQ%3D%3D?line=14'>15</a>\u001b[0m     matches \u001b[39m=\u001b[39m face_recognition\u001b[39m.\u001b[39mcompare_faces(known_face_encodings, face_encoding)\n\u001b[0;32m     <a href='vscode-notebook-cell:/c%3A/Users/User/Desktop/PointoTurkcell/APP/2-EventFaceRec/2-EventFaceRecognition.ipynb#W5sZmlsZQ%3D%3D?line=15'>16</a>\u001b[0m     name \u001b[39m=\u001b[39m \u001b[39m\"\u001b[39m\u001b[39mBilinmeyen\u001b[39m\u001b[39m\"\u001b[39m\n",
      "\u001b[1;31mNameError\u001b[0m: name 'face_recognition' is not defined"
     ]
    },
    {
     "ename": "",
     "evalue": "",
     "output_type": "error",
     "traceback": [
      "\u001b[1;31mThe Kernel crashed while executing code in the the current cell or a previous cell. Please review the code in the cell(s) to identify a possible cause of the failure. Click <a href='https://aka.ms/vscodeJupyterKernelCrash'>here</a> for more info. View Jupyter <a href='command:jupyter.viewOutput'>log</a> for further details."
     ]
    }
   ],
   "source": [
    "while True:\n",
    "    ret, frame = cap.read()\n",
    "\n",
    "    if not ret:\n",
    "        break\n",
    "\n",
    "    # Yüz tespiti yap\n",
    "    gray = cv2.cvtColor(frame, cv2.COLOR_BGR2GRAY)\n",
    "    faces = face_detector(gray)\n",
    "\n",
    "    for face in faces:\n",
    "        top, right, bottom, left = face.top(), face.right(), face.bottom(), face.left()\n",
    "        face_encoding = face_recognition.face_encodings(frame, [(top, right, bottom, left)])[0]\n",
    "\n",
    "        matches = face_recognition.compare_faces(known_face_encodings, face_encoding)\n",
    "        name = \"Bilinmeyen\"\n",
    "\n",
    "        if True in matches:\n",
    "            first_match_index = matches.index(True)\n",
    "            name = known_face_names[first_match_index]\n",
    "        else:\n",
    "            known_face_encodings.append(face_encoding)\n",
    "            known_face_names.append(\"Yeni İsim\")\n",
    "\n",
    "        face_file_path = os.path.join(output_folder, f'{name}_{len(os.listdir(output_folder))}.jpg')\n",
    "        cv2.imwrite(face_file_path, frame[top:bottom, left:right])\n",
    "\n",
    "        cv2.rectangle(frame, (left, top), (right, bottom), (0, 0, 255), 2)\n",
    "\n",
    "        font = cv2.FONT_HERSHEY_DUPLEX\n",
    "        cv2.putText(frame, name, (left + 6, bottom - 6), font, 0.5, (255, 255, 255), 1)\n",
    "\n",
    "    cv2.imshow('Video', frame)\n",
    "\n",
    "    if cv2.waitKey(1) & 0xFF == ord('q'):\n",
    "        break\n",
    "\n",
    "cap.release()\n",
    "cv2.destroyAllWindows()"
   ]
  }
 ],
 "metadata": {
  "kernelspec": {
   "display_name": "base",
   "language": "python",
   "name": "python3"
  },
  "language_info": {
   "codemirror_mode": {
    "name": "ipython",
    "version": 3
   },
   "file_extension": ".py",
   "mimetype": "text/x-python",
   "name": "python",
   "nbconvert_exporter": "python",
   "pygments_lexer": "ipython3",
   "version": "3.9.11"
  }
 },
 "nbformat": 4,
 "nbformat_minor": 2
}

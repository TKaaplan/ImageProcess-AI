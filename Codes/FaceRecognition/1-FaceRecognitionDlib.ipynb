{
 "cells": [
  {
   "cell_type": "code",
   "execution_count": 7,
   "metadata": {},
   "outputs": [],
   "source": [
    "import cv2\n",
    "import os\n",
    "import numpy as np\n",
    "import dlib\n",
    "import face_recognition"
   ]
  },
  {
   "cell_type": "code",
   "execution_count": 8,
   "metadata": {},
   "outputs": [],
   "source": [
    "face_detector = dlib.get_frontal_face_detector()\n",
    "video_capture = cv2.VideoCapture(\"ankara.mp4\")\n",
    "\n",
    "if not os.path.exists('Faces'):\n",
    "    os.makedirs('Faces')\n",
    "\n",
    "known_faces = []\n",
    "counter = 0\n",
    "\n",
    "while True:\n",
    "    ret, frame = video_capture.read()\n",
    "    faces = face_detector(frame)\n",
    "\n",
    "    for i, face in enumerate(faces):\n",
    "        x1, y1, x2, y2, w, h = face.left(), face.top(), face.right() + 1, face.bottom() + 1, face.width(), face.height()\n",
    "        yuz = frame[y1:y2, x1:x2]\n",
    "\n",
    "        if not yuz.size == 0:\n",
    "            face_encoding = face_recognition.face_encodings(yuz)\n",
    "\n",
    "            if face_encoding:\n",
    "                current_face = face_encoding[0]\n",
    "\n",
    "                # Tanımlanan yüzü daha önce kaydedilen yüzlerle karşılaştır\n",
    "                matches = face_recognition.compare_faces(known_faces, current_face)\n",
    "\n",
    "                if not True in matches:\n",
    "                    file_name = f'Faces/yuz_{counter}.jpg'\n",
    "                    cv2.imwrite(file_name, yuz)\n",
    "                    cv2.rectangle(frame, (x1, y1), (x1 + w, y1 + h), (0, 255, 0), 2)\n",
    "                    counter += 1\n",
    "                    known_faces.append(current_face)\n",
    "\n",
    "    cv2.imshow('Video', frame)\n",
    "\n",
    "    if cv2.waitKey(1) & 0xFF == ord('q'):\n",
    "        break\n",
    "\n",
    "video_capture.release()\n",
    "cv2.destroyAllWindows()"
   ]
  },
  {
   "cell_type": "code",
   "execution_count": null,
   "metadata": {},
   "outputs": [],
   "source": []
  }
 ],
 "metadata": {
  "kernelspec": {
   "display_name": "base",
   "language": "python",
   "name": "python3"
  },
  "language_info": {
   "codemirror_mode": {
    "name": "ipython",
    "version": 3
   },
   "file_extension": ".py",
   "mimetype": "text/x-python",
   "name": "python",
   "nbconvert_exporter": "python",
   "pygments_lexer": "ipython3",
   "version": "3.9.11"
  },
  "orig_nbformat": 4
 },
 "nbformat": 4,
 "nbformat_minor": 2
}

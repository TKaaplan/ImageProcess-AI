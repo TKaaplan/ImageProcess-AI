{
 "cells": [
  {
   "cell_type": "code",
   "execution_count": 1,
   "metadata": {},
   "outputs": [],
   "source": [
    "import cv2"
   ]
  },
  {
   "cell_type": "code",
   "execution_count": 2,
   "metadata": {},
   "outputs": [
    {
     "ename": "IndexError",
     "evalue": "invalid index to scalar variable.",
     "output_type": "error",
     "traceback": [
      "\u001b[1;31m---------------------------------------------------------------------------\u001b[0m",
      "\u001b[1;31mIndexError\u001b[0m                                Traceback (most recent call last)",
      "\u001b[1;32mc:\\Users\\User\\Desktop\\PointoTurkcell\\APP\\2-EventFaceRec\\Events\\4-FaceRecYOLO.ipynb Cell 2\u001b[0m line \u001b[0;36m8\n\u001b[0;32m      <a href='vscode-notebook-cell:/c%3A/Users/User/Desktop/PointoTurkcell/APP/2-EventFaceRec/Events/4-FaceRecYOLO.ipynb#W1sZmlsZQ%3D%3D?line=4'>5</a>\u001b[0m     classes \u001b[39m=\u001b[39m f\u001b[39m.\u001b[39mread()\u001b[39m.\u001b[39mstrip()\u001b[39m.\u001b[39msplit(\u001b[39m\"\u001b[39m\u001b[39m\\n\u001b[39;00m\u001b[39m\"\u001b[39m)\n\u001b[0;32m      <a href='vscode-notebook-cell:/c%3A/Users/User/Desktop/PointoTurkcell/APP/2-EventFaceRec/Events/4-FaceRecYOLO.ipynb#W1sZmlsZQ%3D%3D?line=6'>7</a>\u001b[0m layer_names \u001b[39m=\u001b[39m net\u001b[39m.\u001b[39mgetLayerNames()\n\u001b[1;32m----> <a href='vscode-notebook-cell:/c%3A/Users/User/Desktop/PointoTurkcell/APP/2-EventFaceRec/Events/4-FaceRecYOLO.ipynb#W1sZmlsZQ%3D%3D?line=7'>8</a>\u001b[0m output_layers \u001b[39m=\u001b[39m [layer_names[i[\u001b[39m0\u001b[39m] \u001b[39m-\u001b[39m \u001b[39m1\u001b[39m] \u001b[39mfor\u001b[39;00m i \u001b[39min\u001b[39;00m net\u001b[39m.\u001b[39mgetUnconnectedOutLayers()]\n\u001b[0;32m     <a href='vscode-notebook-cell:/c%3A/Users/User/Desktop/PointoTurkcell/APP/2-EventFaceRec/Events/4-FaceRecYOLO.ipynb#W1sZmlsZQ%3D%3D?line=9'>10</a>\u001b[0m \u001b[39m# Video akışını aç\u001b[39;00m\n\u001b[0;32m     <a href='vscode-notebook-cell:/c%3A/Users/User/Desktop/PointoTurkcell/APP/2-EventFaceRec/Events/4-FaceRecYOLO.ipynb#W1sZmlsZQ%3D%3D?line=10'>11</a>\u001b[0m cap \u001b[39m=\u001b[39m cv2\u001b[39m.\u001b[39mVideoCapture(\u001b[39m\"\u001b[39m\u001b[39mx2mate.com-Okulöncesi .mp4\u001b[39m\u001b[39m\"\u001b[39m) \n",
      "\u001b[1;32mc:\\Users\\User\\Desktop\\PointoTurkcell\\APP\\2-EventFaceRec\\Events\\4-FaceRecYOLO.ipynb Cell 2\u001b[0m line \u001b[0;36m8\n\u001b[0;32m      <a href='vscode-notebook-cell:/c%3A/Users/User/Desktop/PointoTurkcell/APP/2-EventFaceRec/Events/4-FaceRecYOLO.ipynb#W1sZmlsZQ%3D%3D?line=4'>5</a>\u001b[0m     classes \u001b[39m=\u001b[39m f\u001b[39m.\u001b[39mread()\u001b[39m.\u001b[39mstrip()\u001b[39m.\u001b[39msplit(\u001b[39m\"\u001b[39m\u001b[39m\\n\u001b[39;00m\u001b[39m\"\u001b[39m)\n\u001b[0;32m      <a href='vscode-notebook-cell:/c%3A/Users/User/Desktop/PointoTurkcell/APP/2-EventFaceRec/Events/4-FaceRecYOLO.ipynb#W1sZmlsZQ%3D%3D?line=6'>7</a>\u001b[0m layer_names \u001b[39m=\u001b[39m net\u001b[39m.\u001b[39mgetLayerNames()\n\u001b[1;32m----> <a href='vscode-notebook-cell:/c%3A/Users/User/Desktop/PointoTurkcell/APP/2-EventFaceRec/Events/4-FaceRecYOLO.ipynb#W1sZmlsZQ%3D%3D?line=7'>8</a>\u001b[0m output_layers \u001b[39m=\u001b[39m [layer_names[i[\u001b[39m0\u001b[39;49m] \u001b[39m-\u001b[39m \u001b[39m1\u001b[39m] \u001b[39mfor\u001b[39;00m i \u001b[39min\u001b[39;00m net\u001b[39m.\u001b[39mgetUnconnectedOutLayers()]\n\u001b[0;32m     <a href='vscode-notebook-cell:/c%3A/Users/User/Desktop/PointoTurkcell/APP/2-EventFaceRec/Events/4-FaceRecYOLO.ipynb#W1sZmlsZQ%3D%3D?line=9'>10</a>\u001b[0m \u001b[39m# Video akışını aç\u001b[39;00m\n\u001b[0;32m     <a href='vscode-notebook-cell:/c%3A/Users/User/Desktop/PointoTurkcell/APP/2-EventFaceRec/Events/4-FaceRecYOLO.ipynb#W1sZmlsZQ%3D%3D?line=10'>11</a>\u001b[0m cap \u001b[39m=\u001b[39m cv2\u001b[39m.\u001b[39mVideoCapture(\u001b[39m\"\u001b[39m\u001b[39mx2mate.com-Okulöncesi .mp4\u001b[39m\u001b[39m\"\u001b[39m) \n",
      "\u001b[1;31mIndexError\u001b[0m: invalid index to scalar variable."
     ]
    }
   ],
   "source": [
    "# YOLO modelini yükle\n",
    "net = cv2.dnn.readNet(\"yolov3.weights\", \"yolov3.cfg\")\n",
    "classes = []\n",
    "with open(\"walking.mp4\", \"r\", encoding=\"latin-1\") as f:\n",
    "    classes = f.read().strip().split(\"\\n\")\n",
    "\n",
    "layer_names = net.getLayerNames()\n",
    "output_layers = [layer_names[i[0] - 1] for i in net.getUnconnectedOutLayers()]\n",
    "\n",
    "# Video akışını aç\n",
    "cap = cv2.VideoCapture(\"x2mate.com-Okulöncesi .mp4\") \n",
    "\n",
    "while True:\n",
    "    ret, frame = cap.read()\n",
    "    height, width, channels = frame.shape\n",
    "\n",
    "    # YOLO için görüntüyü hazırla\n",
    "    blob = cv2.dnn.blobFromImage(frame, 0.00392, (416, 416), (0, 0, 0), True, crop=False)\n",
    "    net.setInput(blob)\n",
    "    outs = net.forward(output_layers)\n",
    "    if len (outs) == 0:\n",
    "        print(\"No Detection Found\")\n",
    "        continue\n",
    "\n",
    "    # Tespit edilen nesneleri çerçeve üzerinde işaretle\n",
    "    class_ids = []\n",
    "    confidences = []\n",
    "    boxes = []\n",
    "    for out in outs:\n",
    "        for detection in out:\n",
    "            scores = detection[5:]\n",
    "            class_id = np.argmax(scores)\n",
    "            confidence = scores[class_id]\n",
    "            if confidence > 0.5:\n",
    "            # Tespit edilen nesnenin merkezi koordinatlarını ve boyutlarını al\n",
    "                center_x = int(detection[0] * width)\n",
    "                center_y = int(detection[1] * height)\n",
    "                w = int(detection[2] * width)\n",
    "                h = int(detection[3] * height)\n",
    "\n",
    "            # Dikdörtgenin köşe koordinatlarını hesapla\n",
    "                x = int(center_x - w / 2)\n",
    "                y = int(center_y - h / 2)\n",
    "\n",
    "            boxes.append([x, y, w, h])\n",
    "            confidences.append(float(confidence))\n",
    "            class_ids.append(class_id)\n",
    "\n",
    "        if len(boxes) == 0 or len(class_ids) == 0 or len(confidences) == 0:\n",
    "            print(\"No objects detected or empty lists\")\n",
    "            continue\n",
    "    # Non-maximum suppression uygula\n",
    "    indexes = cv2.dnn.NMSBoxes(boxes, confidences, 0.5, 0.4)\n",
    "\n",
    "    # Tespit edilen nesneleri çerçeve üzerinde işaretle\n",
    "    for i in range(len(boxes)):\n",
    "        if i in indexes and len(class_ids) > i:\n",
    "            x, y, w, h = boxes[i]\n",
    "            label = str(classes[class_ids[i]])\n",
    "            confidence = confidences[i]\n",
    "            color = (0, 255, 0)  # Yeşil renk\n",
    "            cv2.rectangle(frame, (x, y), (x + w, y + h), color, 2)\n",
    "            cv2.putText(frame, f\"{label} {confidence:.2f}\", (x, y - 10), cv2.FONT_HERSHEY_SIMPLEX, 0.5, color, 2)\n",
    "\n",
    "    # Sonuçları göster\n",
    "    cv2.imshow(\"YOLO Object Detection\", frame)\n",
    "\n",
    "    # 'q' tuşuna basıldığında döngüden çık\n",
    "    if cv2.waitKey(1) & 0xFF== ord(\"q\"):\n",
    "        break\n",
    "\n",
    "# Video akışını serbest bırak ve pencereyi kapat\n",
    "cap.release()\n",
    "cv2.destroyAllWindows()"
   ]
  },
  {
   "cell_type": "code",
   "execution_count": null,
   "metadata": {},
   "outputs": [],
   "source": []
  },
  {
   "cell_type": "code",
   "execution_count": null,
   "metadata": {},
   "outputs": [],
   "source": []
  }
 ],
 "metadata": {
  "kernelspec": {
   "display_name": "base",
   "language": "python",
   "name": "python3"
  },
  "language_info": {
   "codemirror_mode": {
    "name": "ipython",
    "version": 3
   },
   "file_extension": ".py",
   "mimetype": "text/x-python",
   "name": "python",
   "nbconvert_exporter": "python",
   "pygments_lexer": "ipython3",
   "version": "3.9.13"
  },
  "orig_nbformat": 4
 },
 "nbformat": 4,
 "nbformat_minor": 2
}

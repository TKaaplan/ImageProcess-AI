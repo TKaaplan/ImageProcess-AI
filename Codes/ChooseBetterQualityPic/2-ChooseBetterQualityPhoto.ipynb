{
 "cells": [
  {
   "cell_type": "code",
   "execution_count": 32,
   "metadata": {},
   "outputs": [],
   "source": [
    "from PIL import Image\n",
    "import os"
   ]
  },
  {
   "cell_type": "code",
   "execution_count": 33,
   "metadata": {},
   "outputs": [],
   "source": [
    "kaynak_klasor_yolu = 'Armaa'\n",
    "hedef_klasor_yolu = 'Armada'\n",
    "\n",
    "dosya_listesi = os.listdir(kaynak_klasor_yolu)\n"
   ]
  },
  {
   "cell_type": "code",
   "execution_count": 34,
   "metadata": {},
   "outputs": [],
   "source": [
    "def piksel_degeri(dosya):\n",
    "    with Image.open(os.path.join(kaynak_klasor_yolu, dosya)) as img:\n",
    "        return img.size[0] * img.size[1]"
   ]
  },
  {
   "cell_type": "code",
   "execution_count": 35,
   "metadata": {},
   "outputs": [],
   "source": [
    "dosya_listesi.sort(key=piksel_degeri, reverse=True)\n",
    "\n",
    "en_kaliteli_fotograflar = dosya_listesi[:1]"
   ]
  },
  {
   "cell_type": "code",
   "execution_count": 36,
   "metadata": {},
   "outputs": [
    {
     "name": "stdout",
     "output_type": "stream",
     "text": [
      "ıphone.jpeg başarıyla kopyalandı.\n"
     ]
    }
   ],
   "source": [
    "for dosya in en_kaliteli_fotograflar:\n",
    "    kaynak_dosya_yolu = os.path.join(kaynak_klasor_yolu, dosya)\n",
    "    hedef_dosya_yolu = os.path.join(hedef_klasor_yolu, dosya)\n",
    "    try:\n",
    "        os.makedirs(hedef_klasor_yolu, exist_ok=True)\n",
    "        with open(kaynak_dosya_yolu, 'rb') as source_file, open(hedef_dosya_yolu, 'wb') as target_file:\n",
    "            target_file.write(source_file.read())\n",
    "        print(f\"{dosya} başarıyla kopyalandı.\")\n",
    "    except Exception as e:\n",
    "        print(f\"{dosya} kopyalanırken hata oluştu: {e}\")"
   ]
  },
  {
   "cell_type": "code",
   "execution_count": null,
   "metadata": {},
   "outputs": [],
   "source": []
  }
 ],
 "metadata": {
  "kernelspec": {
   "display_name": "base",
   "language": "python",
   "name": "python3"
  },
  "language_info": {
   "codemirror_mode": {
    "name": "ipython",
    "version": 3
   },
   "file_extension": ".py",
   "mimetype": "text/x-python",
   "name": "python",
   "nbconvert_exporter": "python",
   "pygments_lexer": "ipython3",
   "version": "3.9.11"
  }
 },
 "nbformat": 4,
 "nbformat_minor": 2
}

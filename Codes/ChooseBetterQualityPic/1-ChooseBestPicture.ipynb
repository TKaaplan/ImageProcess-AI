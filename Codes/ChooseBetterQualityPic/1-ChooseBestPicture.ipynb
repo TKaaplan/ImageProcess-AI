{
 "cells": [
  {
   "cell_type": "code",
   "execution_count": 125,
   "metadata": {},
   "outputs": [],
   "source": [
    "import os\n",
    "import cv2\n",
    "import shutil\n",
    "import numpy as np\n",
    "from tensorflow.keras.applications.vgg19 import VGG19, preprocess_input\n",
    "from tensorflow.keras.applications.vgg16 import VGG16, preprocess_input\n",
    "from tensorflow.keras.preprocessing import image\n",
    "from tensorflow.keras.applications.vgg16 import decode_predictions\n",
    "from tensorflow.keras.applications.vgg19 import decode_predictions"
   ]
  },
  {
   "cell_type": "code",
   "execution_count": 126,
   "metadata": {},
   "outputs": [],
   "source": [
    "model = VGG16(weights='imagenet')"
   ]
  },
  {
   "cell_type": "code",
   "execution_count": 127,
   "metadata": {},
   "outputs": [],
   "source": [
    "photo_path='lowre'\n",
    "new_path='BestPhotos'\n",
    "if not os.path.exists(new_path):\n",
    "    os.makedirs(new_path)"
   ]
  },
  {
   "cell_type": "code",
   "execution_count": 128,
   "metadata": {},
   "outputs": [],
   "source": [
    "def load_and_preprocess_images_from_folder(folder):\n",
    "    images = []\n",
    "    for filename in os.listdir(folder):\n",
    "        img_path = os.path.join(folder, filename)\n",
    "        img = image.load_img(img_path, target_size=(224, 224))\n",
    "        img_array = image.img_to_array(img)\n",
    "        img_array = np.expand_dims(img_array, axis=0)\n",
    "        img_array = preprocess_input(img_array)\n",
    "        images.append((img_path, img_array))\n",
    "    return images\n"
   ]
  },
  {
   "cell_type": "code",
   "execution_count": 129,
   "metadata": {},
   "outputs": [],
   "source": [
    "images=load_and_preprocess_images_from_folder(photo_path)"
   ]
  },
  {
   "cell_type": "code",
   "execution_count": 130,
   "metadata": {},
   "outputs": [
    {
     "name": "stdout",
     "output_type": "stream",
     "text": [
      "1/1 [==============================] - 0s 463ms/step\n",
      "1/1 [==============================] - 0s 235ms/step\n",
      "1/1 [==============================] - 0s 233ms/step\n",
      "1/1 [==============================] - 0s 238ms/step\n",
      "1/1 [==============================] - 0s 247ms/step\n",
      "1/1 [==============================] - 0s 238ms/step\n",
      "1/1 [==============================] - 0s 296ms/step\n",
      "1/1 [==============================] - 0s 346ms/step\n",
      "1/1 [==============================] - 0s 278ms/step\n"
     ]
    }
   ],
   "source": [
    "sorted_images = []\n",
    "for img_path, x in images:\n",
    "    predictions = model.predict(x)\n",
    "    decoded_predictions = decode_predictions(predictions)\n",
    "    top_prediction = decoded_predictions[0][0]\n",
    "    sorted_images.append((img_path, top_prediction[2]))\n",
    "\n",
    "sorted_images.sort(key=lambda x: x[1], reverse=True)\n",
    "top_3_images = sorted_images[:3]"
   ]
  },
  {
   "cell_type": "code",
   "execution_count": 131,
   "metadata": {},
   "outputs": [],
   "source": [
    "for img_path, _ in top_3_images:\n",
    "    img_name = os.path.basename(img_path)\n",
    "    hedef_path = os.path.join(new_path, img_name)\n",
    "    shutil.copy(img_path, new_path)"
   ]
  },
  {
   "cell_type": "markdown",
   "metadata": {},
   "source": [
    "#model için uygun formata dönüştürme\n",
    "for i, x in enumerate(images):\n",
    "    predictions = model.predict(x)\n",
    "    \n",
    "    decoded_predictions = decode_predictions(predictions)\n",
    "    top_prediction = decoded_predictions[0][0]\n",
    "    \n",
    "    # En iyi fotoğrafı güncelleme\n",
    "    if top_prediction[2] > best_score:\n",
    "        best_score = top_prediction[2]\n",
    "        best_image_index = i"
   ]
  },
  {
   "cell_type": "markdown",
   "metadata": {},
   "source": [
    "if best_image_index is not None:\n",
    "    best_image = images[best_image_index]\n",
    "    original_filename = os.listdir(photo_path)[best_image_index]  # Dizin içindeki dosyaların sırasını korumak için\n",
    "    output_path = os.path.join(photo_path, 'best_image_' + original_filename)\n",
    "    cv2.imwrite(output_path, best_image)\n",
    "    cv2.imwrite('best.jpeg', best_image)\n",
    "    print(f'En iyi fotoğraf kaydedildi: {output_path}')\n",
    "else:\n",
    "    print('Hiçbir uygun fotoğraf bulunamadı.')"
   ]
  },
  {
   "cell_type": "code",
   "execution_count": null,
   "metadata": {},
   "outputs": [],
   "source": []
  }
 ],
 "metadata": {
  "kernelspec": {
   "display_name": "base",
   "language": "python",
   "name": "python3"
  },
  "language_info": {
   "codemirror_mode": {
    "name": "ipython",
    "version": 3
   },
   "file_extension": ".py",
   "mimetype": "text/x-python",
   "name": "python",
   "nbconvert_exporter": "python",
   "pygments_lexer": "ipython3",
   "version": "3.9.13"
  }
 },
 "nbformat": 4,
 "nbformat_minor": 2
}

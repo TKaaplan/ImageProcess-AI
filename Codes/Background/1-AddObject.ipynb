{
 "cells": [
  {
   "cell_type": "code",
   "execution_count": 1,
   "metadata": {},
   "outputs": [],
   "source": [
    "import cv2\n",
    "from PIL import Image\n",
    "import numpy as np"
   ]
  },
  {
   "cell_type": "code",
   "execution_count": 2,
   "metadata": {},
   "outputs": [],
   "source": [
    "image1 = cv2.imread(\"test2.jpg\")\n",
    "image_add = Image.open('araba1.png')\n",
    "\n",
    "width, height = image1.shape[1], image1.shape[0]\n",
    "image_add = image_add.resize((width, height))\n",
    "\n",
    "image_add = cv2.cvtColor(np.array(image_add), cv2.COLOR_RGB2BGR)\n",
    "\n",
    "output_image = cv2.addWeighted(image1, 1, image_add, 0.7, 0)\n",
    "\n",
    "new_width = 800\n",
    "new_height = 600\n",
    "\n",
    "output_image_resized = cv2.resize(output_image, (new_width, new_height))\n",
    "\n",
    "cv2.imshow('Custom_image_resized', output_image_resized)\n",
    "\n",
    "cv2.imwrite('CustomImg_resized.jpg', output_image_resized)\n",
    "\n",
    "cv2.waitKey(0)\n",
    "cv2.destroyAllWindows()"
   ]
  },
  {
   "cell_type": "code",
   "execution_count": null,
   "metadata": {},
   "outputs": [],
   "source": []
  }
 ],
 "metadata": {
  "kernelspec": {
   "display_name": "base",
   "language": "python",
   "name": "python3"
  },
  "language_info": {
   "codemirror_mode": {
    "name": "ipython",
    "version": 3
   },
   "file_extension": ".py",
   "mimetype": "text/x-python",
   "name": "python",
   "nbconvert_exporter": "python",
   "pygments_lexer": "ipython3",
   "version": "3.9.11"
  },
  "orig_nbformat": 4
 },
 "nbformat": 4,
 "nbformat_minor": 2
}

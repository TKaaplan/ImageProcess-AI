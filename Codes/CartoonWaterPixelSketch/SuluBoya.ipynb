{
 "cells": [
  {
   "cell_type": "code",
   "execution_count": 4,
   "metadata": {},
   "outputs": [],
   "source": [
    "import cv2\n",
    "import numpy as np\n",
    "from skimage import img_as_ubyte\n",
    "from skimage.color import rgb2gray\n",
    "from skimage.filters import sobel, gaussian"
   ]
  },
  {
   "cell_type": "code",
   "execution_count": 5,
   "metadata": {},
   "outputs": [],
   "source": [
    "\n",
    "def watercolor_image(image_path, output_path):\n",
    "    image = cv2.imread(image_path)\n",
    "\n",
    "    blurred = cv2.medianBlur(image, 7)\n",
    "\n",
    "    watercolor = cv2.stylization(blurred, sigma_s=150, sigma_r=0.25)\n",
    "    \n",
    "    cv2.imshow('Watercolor', watercolor)\n",
    "\n",
    "    cv2.imwrite(output_path, watercolor)\n",
    "    \n",
    "    cv2.waitKey(0)\n",
    "    cv2.destroyAllWindows()\n",
    "\n",
    "image_path = 'tolga2.jpeg'\n",
    "output_path = 'TolgaSuluboya.jpg'\n",
    "\n",
    "# Fonksiyonu çağır\n",
    "watercolor_image(image_path, output_path)"
   ]
  },
  {
   "cell_type": "code",
   "execution_count": null,
   "metadata": {},
   "outputs": [],
   "source": []
  }
 ],
 "metadata": {
  "kernelspec": {
   "display_name": "base",
   "language": "python",
   "name": "python3"
  },
  "language_info": {
   "codemirror_mode": {
    "name": "ipython",
    "version": 3
   },
   "file_extension": ".py",
   "mimetype": "text/x-python",
   "name": "python",
   "nbconvert_exporter": "python",
   "pygments_lexer": "ipython3",
   "version": "3.9.11"
  }
 },
 "nbformat": 4,
 "nbformat_minor": 2
}

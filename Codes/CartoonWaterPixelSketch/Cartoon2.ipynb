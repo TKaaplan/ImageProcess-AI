{
 "cells": [
  {
   "cell_type": "code",
   "execution_count": 40,
   "metadata": {},
   "outputs": [],
   "source": [
    "import cv2\n",
    "import skimage\n",
    "import numpy as np\n",
    "from skimage.color import rgb2gray\n",
    "from skimage.filters import sobel, gaussian\n",
    "from skimage import img_as_ubyte"
   ]
  },
  {
   "cell_type": "code",
   "execution_count": 44,
   "metadata": {},
   "outputs": [],
   "source": [
    "def cartoonize_image(image_path, output_path):\n",
    "    image = cv2.imread(image_path)\n",
    "    blurred = cv2.medianBlur(image, 5)\n",
    "    \n",
    "    gray = cv2.cvtColor(blurred, cv2.COLOR_BGR2GRAY)\n",
    "    \n",
    "    edges = sobel(gray)\n",
    "\n",
    "    edges = cv2.bitwise_not(edges.astype(np.uint8))\n",
    "    \n",
    "    color = cv2.detailEnhance(blurred, sigma_s=10, sigma_r=0.15)\n",
    "    \n",
    "    cartoon = cv2.bitwise_and(color, color, mask=edges)\n",
    "\n",
    "    cv2.imwrite(output_path, cartoon)\n",
    "\n",
    "\n",
    "# Çizgi film haline getirilecek resmin dosya yolu\n",
    "image_path = 'tolga2.jpeg'\n",
    "\n",
    "# Kaydedilecek dosya yolu\n",
    "output_path = 'tolgacartooned.jpg'\n",
    "\n",
    "# Fonksiyonu çağır\n",
    "cartoonize_image(image_path, output_path)"
   ]
  },
  {
   "cell_type": "code",
   "execution_count": null,
   "metadata": {},
   "outputs": [],
   "source": []
  }
 ],
 "metadata": {
  "kernelspec": {
   "display_name": "base",
   "language": "python",
   "name": "python3"
  },
  "language_info": {
   "codemirror_mode": {
    "name": "ipython",
    "version": 3
   },
   "file_extension": ".py",
   "mimetype": "text/x-python",
   "name": "python",
   "nbconvert_exporter": "python",
   "pygments_lexer": "ipython3",
   "version": "3.9.11"
  }
 },
 "nbformat": 4,
 "nbformat_minor": 2
}

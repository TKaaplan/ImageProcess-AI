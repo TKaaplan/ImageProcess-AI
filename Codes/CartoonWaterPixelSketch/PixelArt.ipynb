{
 "cells": [
  {
   "cell_type": "code",
   "execution_count": 15,
   "metadata": {},
   "outputs": [
    {
     "ename": "ModuleNotFoundError",
     "evalue": "No module named 'toonify'",
     "output_type": "error",
     "traceback": [
      "\u001b[1;31m---------------------------------------------------------------------------\u001b[0m",
      "\u001b[1;31mModuleNotFoundError\u001b[0m                       Traceback (most recent call last)",
      "\u001b[1;32mc:\\Users\\User\\Desktop\\PointoTurkcell\\APP\\1c\\PixelArt.ipynb Cell 1\u001b[0m line \u001b[0;36m2\n\u001b[0;32m      <a href='vscode-notebook-cell:/c%3A/Users/User/Desktop/PointoTurkcell/APP/1c/PixelArt.ipynb#W0sZmlsZQ%3D%3D?line=0'>1</a>\u001b[0m \u001b[39mfrom\u001b[39;00m \u001b[39mPIL\u001b[39;00m \u001b[39mimport\u001b[39;00m Image\n\u001b[1;32m----> <a href='vscode-notebook-cell:/c%3A/Users/User/Desktop/PointoTurkcell/APP/1c/PixelArt.ipynb#W0sZmlsZQ%3D%3D?line=1'>2</a>\u001b[0m \u001b[39mfrom\u001b[39;00m \u001b[39mtoonify\u001b[39;00m \u001b[39mimport\u001b[39;00m Toonify\n",
      "\u001b[1;31mModuleNotFoundError\u001b[0m: No module named 'toonify'"
     ]
    }
   ],
   "source": [
    "from PIL import Image\n",
    "from toonify import Toonify"
   ]
  },
  {
   "cell_type": "code",
   "execution_count": 14,
   "metadata": {},
   "outputs": [],
   "source": [
    "def realistic_pixel_art(image_path, output_path, pixel_size):\n",
    "    image = Image.open(image_path)\n",
    "    pixelated = image.resize((image.width // pixel_size, image.height // pixel_size), resample=Image.NEAREST)\n",
    "    pixelated = pixelated.resize((image.width, image.height), resample=Image.NEAREST)\n",
    "    \n",
    "    pixelated.show()\n",
    "    pixelated.save(output_path)\n",
    "\n",
    "image_path = 'tolga2.jpeg'\n",
    "output_path = 'TolgaRealisticPixelArt.jpg'\n",
    "\n",
    "pixel_size = 10\n",
    "\n",
    "realistic_pixel_art(image_path, output_path, pixel_size)"
   ]
  },
  {
   "cell_type": "code",
   "execution_count": null,
   "metadata": {},
   "outputs": [],
   "source": []
  }
 ],
 "metadata": {
  "kernelspec": {
   "display_name": "base",
   "language": "python",
   "name": "python3"
  },
  "language_info": {
   "codemirror_mode": {
    "name": "ipython",
    "version": 3
   },
   "file_extension": ".py",
   "mimetype": "text/x-python",
   "name": "python",
   "nbconvert_exporter": "python",
   "pygments_lexer": "ipython3",
   "version": "3.9.11"
  }
 },
 "nbformat": 4,
 "nbformat_minor": 2
}

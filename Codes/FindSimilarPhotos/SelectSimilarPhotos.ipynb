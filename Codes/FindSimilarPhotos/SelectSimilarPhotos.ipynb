{
 "cells": [
  {
   "cell_type": "code",
   "execution_count": null,
   "metadata": {},
   "outputs": [
    {
     "ename": "",
     "evalue": "",
     "output_type": "error",
     "traceback": [
      "\u001b[1;31mThe kernel failed to start as 'KeyPressEvent' could not be imported from 'c:\\Users\\User\\anaconda3\\lib\\site-packages\\prompt_toolkit\\key_binding\\__init__.py'.\n",
      "\u001b[1;31mClick <a href='https://aka.ms/kernelFailuresModuleImportErrFromFile'>here</a> for more info."
     ]
    }
   ],
   "source": [
    "import os\n",
    "import cv2\n",
    "import numpy as np\n",
    "from sklearn.metrics.pairwise import cosine_similarity"
   ]
  },
  {
   "cell_type": "code",
   "execution_count": null,
   "metadata": {},
   "outputs": [
    {
     "ename": "",
     "evalue": "",
     "output_type": "error",
     "traceback": [
      "\u001b[1;31mThe kernel failed to start as 'KeyPressEvent' could not be imported from 'c:\\Users\\User\\anaconda3\\lib\\site-packages\\prompt_toolkit\\key_binding\\__init__.py'.\n",
      "\u001b[1;31mClick <a href='https://aka.ms/kernelFailuresModuleImportErrFromFile'>here</a> for more info."
     ]
    }
   ],
   "source": [
    "def calculate_similarity(image1, image2):\n",
    "    hist1 = cv2.calcHist([image1], [0, 1, 2], None, [256, 256, 256], [0, 256, 0, 256, 0, 256])\n",
    "    hist2 = cv2.calcHist([image2], [0, 1, 2], None, [256, 256, 256], [0, 256, 0, 256, 0, 256])\n",
    "    similarity = cosine_similarity(hist1.reshape(1, -1), hist2.reshape(1, -1))\n",
    "    return similarity[0][0]\n"
   ]
  },
  {
   "cell_type": "code",
   "execution_count": null,
   "metadata": {},
   "outputs": [
    {
     "ename": "",
     "evalue": "",
     "output_type": "error",
     "traceback": [
      "\u001b[1;31mThe kernel failed to start as 'KeyPressEvent' could not be imported from 'c:\\Users\\User\\anaconda3\\lib\\site-packages\\prompt_toolkit\\key_binding\\__init__.py'.\n",
      "\u001b[1;31mClick <a href='https://aka.ms/kernelFailuresModuleImportErrFromFile'>here</a> for more info."
     ]
    }
   ],
   "source": [
    "def find_best_image(directory_path):\n",
    "    image_files = [f for f in os.listdir(directory_path) if f.lower().endswith(('.png', '.jpg', '.jpeg', '.gif'))]\n",
    "\n",
    "    best_similarity = 0\n",
    "    best_image = None\n",
    "\n",
    "    for image_file in image_files:\n",
    "        image_path = os.path.join(directory_path, image_file)\n",
    "        image = cv2.imread(image_path)\n",
    "        similarity = calculate_similarity(image, reference_image)\n",
    "\n",
    "        if similarity > best_similarity:\n",
    "            best_similarity = similarity\n",
    "            best_image = image_path\n",
    "\n",
    "    return best_image"
   ]
  },
  {
   "cell_type": "code",
   "execution_count": null,
   "metadata": {},
   "outputs": [
    {
     "ename": "",
     "evalue": "",
     "output_type": "error",
     "traceback": [
      "\u001b[1;31mThe kernel failed to start as 'KeyPressEvent' could not be imported from 'c:\\Users\\User\\anaconda3\\lib\\site-packages\\prompt_toolkit\\key_binding\\__init__.py'.\n",
      "\u001b[1;31mClick <a href='https://aka.ms/kernelFailuresModuleImportErrFromFile'>here</a> for more info."
     ]
    }
   ],
   "source": [
    "reference_image = cv2.imread('tolga1.jpeg')\n",
    "\n",
    "# Benzer fotoğrafların bulunduğu klasörü belirtin\n",
    "image_directory_path = \"tolgafoto\"\n",
    "\n",
    "best_image_path = find_best_image(image_directory_path)\n",
    "print(\"En iyi fotoğraf:\", best_image_path)"
   ]
  },
  {
   "cell_type": "code",
   "execution_count": null,
   "metadata": {},
   "outputs": [
    {
     "ename": "",
     "evalue": "",
     "output_type": "error",
     "traceback": [
      "\u001b[1;31mThe kernel failed to start as 'KeyPressEvent' could not be imported from 'c:\\Users\\User\\anaconda3\\lib\\site-packages\\prompt_toolkit\\key_binding\\__init__.py'.\n",
      "\u001b[1;31mClick <a href='https://aka.ms/kernelFailuresModuleImportErrFromFile'>here</a> for more info."
     ]
    }
   ],
   "source": []
  }
 ],
 "metadata": {
  "kernelspec": {
   "display_name": "base",
   "language": "python",
   "name": "python3"
  },
  "language_info": {
   "codemirror_mode": {
    "name": "ipython",
    "version": 3
   },
   "file_extension": ".py",
   "mimetype": "text/x-python",
   "name": "python",
   "nbconvert_exporter": "python",
   "pygments_lexer": "ipython3",
   "version": "3.9.13"
  }
 },
 "nbformat": 4,
 "nbformat_minor": 2
}

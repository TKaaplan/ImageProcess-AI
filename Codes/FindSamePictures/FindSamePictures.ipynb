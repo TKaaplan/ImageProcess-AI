{
 "cells": [
  {
   "cell_type": "code",
   "execution_count": 1,
   "metadata": {},
   "outputs": [],
   "source": [
    "import cv2\n",
    "import os\n",
    "import imagehash\n",
    "from PIL import Image"
   ]
  },
  {
   "cell_type": "code",
   "execution_count": 4,
   "metadata": {},
   "outputs": [],
   "source": [
    "dizin_yolu = r'C:\\Users\\User\\Desktop\\PointoTurkcell\\APP\\5-FindingSamePictures\\SamePic'\n",
    "dosya_listesi = os.listdir(dizin_yolu)"
   ]
  },
  {
   "cell_type": "code",
   "execution_count": 5,
   "metadata": {},
   "outputs": [
    {
     "name": "stdout",
     "output_type": "stream",
     "text": [
      "Aynı resimler: ['8991501 (1).jpeg', '8991501.jpeg', 'zfytch.jpeg']\n",
      "Aynı resimler: ['fytch-new (1).jpeg', 'fytch-new.jpeg']\n"
     ]
    }
   ],
   "source": [
    "resimler = {}\n",
    "\n",
    "for dosya in dosya_listesi:\n",
    "    dosya_yolu = os.path.join(dizin_yolu, dosya)\n",
    "\n",
    "    if dosya.lower().endswith(('.png', '.jpg', '.jpeg', '.jfif')):\n",
    "        with Image.open(dosya_yolu) as img:\n",
    "            img_hash = str(imagehash.average_hash(img, hash_size=8))\n",
    "\n",
    "            if img_hash in resimler:\n",
    "                resimler[img_hash].append(dosya)\n",
    "            else:\n",
    "                resimler[img_hash] = [dosya]\n",
    "\n",
    "for hash_degeri, dosya_listesi in resimler.items():\n",
    "    if len(dosya_listesi) > 1:\n",
    "        print(f'Aynı resimler: {dosya_listesi}')"
   ]
  },
  {
   "cell_type": "code",
   "execution_count": 6,
   "metadata": {},
   "outputs": [],
   "source": [
    "import shutil\n",
    "import os"
   ]
  },
  {
   "cell_type": "code",
   "execution_count": 7,
   "metadata": {},
   "outputs": [
    {
     "ename": "SyntaxError",
     "evalue": "invalid syntax (936259284.py, line 3)",
     "output_type": "error",
     "traceback": [
      "\u001b[1;36m  Cell \u001b[1;32mIn[7], line 3\u001b[1;36m\u001b[0m\n\u001b[1;33m    if os.path.exists\u001b[0m\n\u001b[1;37m                     ^\u001b[0m\n\u001b[1;31mSyntaxError\u001b[0m\u001b[1;31m:\u001b[0m invalid syntax\n"
     ]
    }
   ],
   "source": [
    "hedef_dizin = r'123'\n",
    "\n",
    "if os.path.exists\n",
    "\n",
    "for hash_degeri, dosya_listesi in resimler.items():\n",
    "    if len(dosya_listesi) > 1:\n",
    "        for dosya in dosya_listesi[1:]:\n",
    "            kaynak_yolu = os.path.join(dizin_yolu, dosya)\n",
    "            hedef_yolu = os.path.join(hedef_dizin, dosya)\n",
    "            shutil.move(kaynak_yolu, hedef_yolu)"
   ]
  }
 ],
 "metadata": {
  "kernelspec": {
   "display_name": "base",
   "language": "python",
   "name": "python3"
  },
  "language_info": {
   "codemirror_mode": {
    "name": "ipython",
    "version": 3
   },
   "file_extension": ".py",
   "mimetype": "text/x-python",
   "name": "python",
   "nbconvert_exporter": "python",
   "pygments_lexer": "ipython3",
   "version": "3.9.11"
  }
 },
 "nbformat": 4,
 "nbformat_minor": 2
}

{
 "cells": [
  {
   "cell_type": "code",
   "execution_count": 1,
   "metadata": {},
   "outputs": [],
   "source": [
    "import cv2\n",
    "import os"
   ]
  },
  {
   "cell_type": "code",
   "execution_count": 2,
   "metadata": {},
   "outputs": [],
   "source": [
    "input_folder = 'Animals'\n",
    "output_folder = 'AnimalsResized'\n",
    "os.makedirs(output_folder, exist_ok=True)\n",
    "\n",
    "# Girdi klasöründeki dosyaları liste olarak al\n",
    "image_files = [file for file in os.listdir(input_folder) if file.lower().endswith(('.jpg', '.png','.jpeg'))]\n",
    "\n",
    "# Yeniden boyutlandırma işlemi\n",
    "target_width = 800  # Hedef genişlik\n",
    "target_height = 600  # Hedef yükseklik\n",
    "\n",
    "for image_file in image_files:\n",
    "    input_path = os.path.join(input_folder, image_file)\n",
    "    image = cv2.imread(input_path)\n",
    "    \n",
    "    resized_image = cv2.resize(image, (target_width, target_height))\n",
    "\n",
    "    output_path = os.path.join(output_folder, image_file)\n",
    "\n",
    "    cv2.imwrite(output_path, resized_image)"
   ]
  },
  {
   "cell_type": "code",
   "execution_count": null,
   "metadata": {},
   "outputs": [],
   "source": []
  }
 ],
 "metadata": {
  "kernelspec": {
   "display_name": "base",
   "language": "python",
   "name": "python3"
  },
  "language_info": {
   "codemirror_mode": {
    "name": "ipython",
    "version": 3
   },
   "file_extension": ".py",
   "mimetype": "text/x-python",
   "name": "python",
   "nbconvert_exporter": "python",
   "pygments_lexer": "ipython3",
   "version": "3.9.18"
  }
 },
 "nbformat": 4,
 "nbformat_minor": 2
}

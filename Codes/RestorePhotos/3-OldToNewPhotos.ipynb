{
 "cells": [
  {
   "cell_type": "code",
   "execution_count": null,
   "metadata": {},
   "outputs": [
    {
     "ename": "",
     "evalue": "",
     "output_type": "error",
     "traceback": [
      "\u001b[1;31mThe kernel failed to start due to the missing module 'decorator'. Consider installing this module.\n",
      "\u001b[1;31mClick <a href='https://aka.ms/kernelFailuresMissingModule'>here</a> for more info."
     ]
    }
   ],
   "source": [
    "import cv2\n",
    "from PIL import Image\n",
    "import numpy as np\n",
    "from keras.models import load_model\n",
    "from keras.models import model_from_json"
   ]
  },
  {
   "cell_type": "code",
   "execution_count": null,
   "metadata": {},
   "outputs": [
    {
     "ename": "",
     "evalue": "",
     "output_type": "error",
     "traceback": [
      "\u001b[1;31mThe kernel failed to start due to the missing module 'decorator'. Consider installing this module.\n",
      "\u001b[1;31mClick <a href='https://aka.ms/kernelFailuresMissingModule'>here</a> for more info."
     ]
    }
   ],
   "source": [
    "json_file = open('srgan_model.json', 'r')\n",
    "loaded_model_json = json_file.read()\n",
    "json_file.close()\n",
    "loaded_model = model_from_json(loaded_model_json)\n",
    "\n",
    "# Modelin ağırlıklarını yükleme\n",
    "loaded_model.load_weights(\"srgan_model_weights.h5\")\n",
    "\n",
    "# Yüklü modeli kullanarak işlemleri gerçekleştirme\n",
    "old_photo = cv2.imread('aile.jpeg')\n",
    "old_photo = cv2.resize(old_photo, (96, 96))\n",
    "old_photo = cv2.cvtColor(old_photo, cv2.COLOR_BGR2RGB)\n",
    "\n",
    "# Yüklü modeli kullanarak işlem yapma\n",
    "yuksek_cozunurluklu_fotograf = loaded_model.predict(np.expand_dims(old_photo, axis=0))[0]"
   ]
  },
  {
   "cell_type": "code",
   "execution_count": null,
   "metadata": {},
   "outputs": [
    {
     "ename": "",
     "evalue": "",
     "output_type": "error",
     "traceback": [
      "\u001b[1;31mThe kernel failed to start due to the missing module 'decorator'. Consider installing this module.\n",
      "\u001b[1;31mClick <a href='https://aka.ms/kernelFailuresMissingModule'>here</a> for more info."
     ]
    }
   ],
   "source": [
    "srgan_model=load_model('SRGAN.h5')\n",
    "old_photo=cv2.imread('ataturk.jpeg')\n",
    "old_photo=cv2.resize(old_photo, (96, 96))\n",
    "old_photo=cv2.cvtColor(old_photo,cv2.COLOR_BGR2RGB)\n",
    "\n",
    "enterence=np.expand_dims(old_photo, axis=0)\n",
    "\n",
    "high_resolution=srgan_model.predict(np.expand_dims(old_photo,axis=0))[0]\n",
    "high_resolution=((high_resolution+1)/2.0)* 255.0\n",
    "high_resolution=high_resolution.astype(np.uint8)\n",
    "\n",
    "cv2.imwrite('ataturknew.jpg', cv2.cvtColor(high_resolution, cv2.COLOR_RGB2BGR))"
   ]
  },
  {
   "cell_type": "code",
   "execution_count": null,
   "metadata": {},
   "outputs": [
    {
     "ename": "",
     "evalue": "",
     "output_type": "error",
     "traceback": [
      "\u001b[1;31mThe kernel failed to start due to the missing module 'decorator'. Consider installing this module.\n",
      "\u001b[1;31mClick <a href='https://aka.ms/kernelFailuresMissingModule'>here</a> for more info."
     ]
    }
   ],
   "source": []
  }
 ],
 "metadata": {
  "kernelspec": {
   "display_name": "base",
   "language": "python",
   "name": "python3"
  },
  "language_info": {
   "codemirror_mode": {
    "name": "ipython",
    "version": 3
   },
   "file_extension": ".py",
   "mimetype": "text/x-python",
   "name": "python",
   "nbconvert_exporter": "python",
   "pygments_lexer": "ipython3",
   "version": "3.9.7"
  }
 },
 "nbformat": 4,
 "nbformat_minor": 2
}

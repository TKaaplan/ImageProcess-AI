{
 "cells": [
  {
   "cell_type": "code",
   "execution_count": 5,
   "metadata": {},
   "outputs": [],
   "source": [
    "import face_recognition\n",
    "import cv2\n",
    "import numpy as np\n",
    "#import dlib"
   ]
  },
  {
   "cell_type": "code",
   "execution_count": 6,
   "metadata": {},
   "outputs": [],
   "source": [
    "image_path1 = \"jenni.jpg\" \n",
    "image_path2 = \"jennifer.jpg\" "
   ]
  },
  {
   "cell_type": "code",
   "execution_count": 7,
   "metadata": {},
   "outputs": [],
   "source": [
    "image1 = face_recognition.load_image_file(image_path1)\n",
    "image2 = face_recognition.load_image_file(image_path2)\n",
    "\n",
    "face_locations1 = face_recognition.face_locations(image1)\n",
    "face_encodings1 = face_recognition.face_encodings(image1, face_locations1)\n",
    "\n",
    "face_locations2 = face_recognition.face_locations(image2)\n",
    "face_encodings2 = face_recognition.face_encodings(image2, face_locations2)"
   ]
  },
  {
   "cell_type": "code",
   "execution_count": 8,
   "metadata": {},
   "outputs": [
    {
     "name": "stdout",
     "output_type": "stream",
     "text": [
      "İki yüz farklı kişilere ait gibi görünüyor.\n",
      "Yüz benzerlik oranı: 0.1047368824746967\n"
     ]
    }
   ],
   "source": [
    "if len(face_encodings1) > 0 and len(face_encodings2) > 0:\n",
    "    face_encoding1 = face_encodings1[0]\n",
    "    face_encoding2 = face_encodings2[0]\n",
    "\n",
    "    euclidean_distance = np.linalg.norm(np.array(face_encoding2) - np.array(face_encoding1))\n",
    "\n",
    "    threshold = 0.65\n",
    "    if euclidean_distance < threshold:\n",
    "        print(\"İki yüz aynı kişiye ait gibi görünüyor!\")\n",
    "        print(\"Yüz benzerlik oranı:\", 1 - euclidean_distance)\n",
    "    else:\n",
    "        print(\"İki yüz farklı kişilere ait gibi görünüyor.\")\n",
    "        print(\"Yüz benzerlik oranı:\", 1 - euclidean_distance)\n",
    "else:\n",
    "    print(\"yüz tespit edilmedi\")"
   ]
  },
  {
   "cell_type": "code",
   "execution_count": null,
   "metadata": {},
   "outputs": [],
   "source": []
  }
 ],
 "metadata": {
  "kernelspec": {
   "display_name": "base",
   "language": "python",
   "name": "python3"
  },
  "language_info": {
   "codemirror_mode": {
    "name": "ipython",
    "version": 3
   },
   "file_extension": ".py",
   "mimetype": "text/x-python",
   "name": "python",
   "nbconvert_exporter": "python",
   "pygments_lexer": "ipython3",
   "version": "3.9.11"
  }
 },
 "nbformat": 4,
 "nbformat_minor": 2
}

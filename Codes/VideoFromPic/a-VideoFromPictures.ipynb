{
 "cells": [
  {
   "cell_type": "code",
   "execution_count": 46,
   "metadata": {},
   "outputs": [],
   "source": [
    "import cv2\n",
    "import os"
   ]
  },
  {
   "cell_type": "markdown",
   "metadata": {},
   "source": [
    "                    BU KISIM EĞER VİDEO HALİNE ÇEVRİLEMİYORSA KLASÖRDEKİ GÖRSELLERİ YENİDEN BOYUTLANDIRIR DAHA SONRA GENELDE ÇALIŞIYOR"
   ]
  },
  {
   "cell_type": "code",
   "execution_count": 47,
   "metadata": {},
   "outputs": [],
   "source": [
    "input_folder = 'sunrise'\n",
    "output_folder = 'sunriseresize'\n",
    "os.makedirs(output_folder, exist_ok=True)\n",
    "\n",
    "image_files = [file for file in os.listdir(input_folder) if file.lower().endswith(('.jpg', '.png','.jpeg'))]\n",
    "\n",
    "target_width = 800\n",
    "target_height = 600 \n",
    "\n",
    "for image_file in image_files:\n",
    "    input_path = os.path.join(input_folder, image_file)\n",
    "    image = cv2.imread(input_path)\n",
    "    \n",
    "    resized_image = cv2.resize(image, (target_width, target_height))\n",
    "\n",
    "    output_path = os.path.join(output_folder, image_file)\n",
    "\n",
    "    cv2.imwrite(output_path, resized_image)"
   ]
  },
  {
   "cell_type": "code",
   "execution_count": 48,
   "metadata": {},
   "outputs": [],
   "source": [
    "from tqdm import tqdm"
   ]
  },
  {
   "cell_type": "code",
   "execution_count": 49,
   "metadata": {},
   "outputs": [],
   "source": [
    "def images_to_video(image_folder, video_name, fps, delay_between_frames):\n",
    "    images = [img for img in os.listdir(image_folder) if img.lower().endswith((\".jpg\", \".png\", \".jpeg\", \".gif\"))]\n",
    "    frame = cv2.imread(os.path.join(image_folder, images[0]))\n",
    "    height, width, layers = frame.shape\n",
    "    fourcc = cv2.VideoWriter_fourcc(*'H264')\n",
    "    video = cv2.VideoWriter(video_name, fourcc, fps, (width, height))\n",
    "    \n",
    "    \n",
    "    for image in tqdm(images, desc=\"Creating video\"):\n",
    "        img_path = os.path.join(image_folder, image)\n",
    "        frame = cv2.imread(img_path)\n",
    "        video.write(frame)\n",
    "        cv2.waitKey(delay_between_frames)  # Gecikmeyi ekleyin\n",
    "\n",
    "\n",
    "    cv2.destroyAllWindows()\n",
    "    video.release()\n",
    "\n",
    "image_folder = 'AnimalsResized'\n",
    "video_name = 'deneme6.mp4'\n",
    "\n",
    "fps = 30\n",
    "#delay_between_frames = 2000 # Gecikmeyi ayarlayın (milisaniye cinsinden)"
   ]
  },
  {
   "cell_type": "code",
   "execution_count": 50,
   "metadata": {},
   "outputs": [
    {
     "name": "stderr",
     "output_type": "stream",
     "text": [
      "Creating video:   0%|          | 0/50 [00:00<?, ?it/s]"
     ]
    },
    {
     "name": "stderr",
     "output_type": "stream",
     "text": [
      "Creating video: 100%|██████████| 50/50 [00:50<00:00,  1.02s/it]\n"
     ]
    }
   ],
   "source": [
    "images_to_video(image_folder, video_name, 3, 1000)\n"
   ]
  }
 ],
 "metadata": {
  "kernelspec": {
   "display_name": "base",
   "language": "python",
   "name": "python3"
  },
  "language_info": {
   "codemirror_mode": {
    "name": "ipython",
    "version": 3
   },
   "file_extension": ".py",
   "mimetype": "text/x-python",
   "name": "python",
   "nbconvert_exporter": "python",
   "pygments_lexer": "ipython3",
   "version": "3.9.11"
  }
 },
 "nbformat": 4,
 "nbformat_minor": 2
}
